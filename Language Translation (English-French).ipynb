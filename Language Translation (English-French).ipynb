{
 "cells": [
  {
   "cell_type": "code",
   "execution_count": 1,
   "id": "cb8bc032-9fce-4c04-b451-56d8494f3d12",
   "metadata": {},
   "outputs": [
    {
     "name": "stderr",
     "output_type": "stream",
     "text": [
      "2024-07-02 15:34:22.555602: E external/local_xla/xla/stream_executor/cuda/cuda_dnn.cc:9261] Unable to register cuDNN factory: Attempting to register factory for plugin cuDNN when one has already been registered\n",
      "2024-07-02 15:34:22.555630: E external/local_xla/xla/stream_executor/cuda/cuda_fft.cc:607] Unable to register cuFFT factory: Attempting to register factory for plugin cuFFT when one has already been registered\n",
      "2024-07-02 15:34:22.556631: E external/local_xla/xla/stream_executor/cuda/cuda_blas.cc:1515] Unable to register cuBLAS factory: Attempting to register factory for plugin cuBLAS when one has already been registered\n",
      "2024-07-02 15:34:22.562152: I tensorflow/core/platform/cpu_feature_guard.cc:182] This TensorFlow binary is optimized to use available CPU instructions in performance-critical operations.\n",
      "To enable the following instructions: AVX2 FMA, in other operations, rebuild TensorFlow with the appropriate compiler flags.\n",
      "2024-07-02 15:34:23.348052: W tensorflow/compiler/tf2tensorrt/utils/py_utils.cc:38] TF-TRT Warning: Could not find TensorRT\n"
     ]
    }
   ],
   "source": [
    "import os\n",
    "import pandas as pd\n",
    "import random\n",
    "import matplotlib.pyplot as plt\n",
    "import keras\n",
    "import tensorflow as tf\n",
    "import string\n",
    "import re\n",
    "import numpy as np"
   ]
  },
  {
   "cell_type": "code",
   "execution_count": 2,
   "id": "80b9c624-f665-433d-bb95-cc285107eaf0",
   "metadata": {},
   "outputs": [
    {
     "name": "stdout",
     "output_type": "stream",
     "text": [
      "Tensor Flow Version: 2.15.0\n",
      "\n",
      "GPU is AVAILABLE\n"
     ]
    },
    {
     "name": "stderr",
     "output_type": "stream",
     "text": [
      "2024-07-02 15:34:25.684232: I external/local_xla/xla/stream_executor/cuda/cuda_executor.cc:901] successful NUMA node read from SysFS had negative value (-1), but there must be at least one NUMA node, so returning NUMA node zero. See more at https://github.com/torvalds/linux/blob/v6.0/Documentation/ABI/testing/sysfs-bus-pci#L344-L355\n",
      "2024-07-02 15:34:25.719269: I external/local_xla/xla/stream_executor/cuda/cuda_executor.cc:901] successful NUMA node read from SysFS had negative value (-1), but there must be at least one NUMA node, so returning NUMA node zero. See more at https://github.com/torvalds/linux/blob/v6.0/Documentation/ABI/testing/sysfs-bus-pci#L344-L355\n",
      "2024-07-02 15:34:25.719481: I external/local_xla/xla/stream_executor/cuda/cuda_executor.cc:901] successful NUMA node read from SysFS had negative value (-1), but there must be at least one NUMA node, so returning NUMA node zero. See more at https://github.com/torvalds/linux/blob/v6.0/Documentation/ABI/testing/sysfs-bus-pci#L344-L355\n"
     ]
    }
   ],
   "source": [
    "print(f\"Tensor Flow Version: {tf.__version__}\")\n",
    "print()\n",
    "gpu = len(tf.config.list_physical_devices('GPU')) > 0\n",
    "print(\"GPU is\", \"AVAILABLE\" if gpu else \"NOT AVAILABLE\")"
   ]
  },
  {
   "cell_type": "code",
   "execution_count": 3,
   "id": "6915b9d5-69f1-4ed6-8255-f1144eae52da",
   "metadata": {},
   "outputs": [
    {
     "data": {
      "text/html": [
       "<div>\n",
       "<style scoped>\n",
       "    .dataframe tbody tr th:only-of-type {\n",
       "        vertical-align: middle;\n",
       "    }\n",
       "\n",
       "    .dataframe tbody tr th {\n",
       "        vertical-align: top;\n",
       "    }\n",
       "\n",
       "    .dataframe thead th {\n",
       "        text-align: right;\n",
       "    }\n",
       "</style>\n",
       "<table border=\"1\" class=\"dataframe\">\n",
       "  <thead>\n",
       "    <tr style=\"text-align: right;\">\n",
       "      <th></th>\n",
       "      <th>English words/sentences</th>\n",
       "      <th>French words/sentences</th>\n",
       "    </tr>\n",
       "  </thead>\n",
       "  <tbody>\n",
       "    <tr>\n",
       "      <th>0</th>\n",
       "      <td>Hi.</td>\n",
       "      <td>Salut!</td>\n",
       "    </tr>\n",
       "    <tr>\n",
       "      <th>1</th>\n",
       "      <td>Run!</td>\n",
       "      <td>Cours !</td>\n",
       "    </tr>\n",
       "    <tr>\n",
       "      <th>2</th>\n",
       "      <td>Run!</td>\n",
       "      <td>Courez !</td>\n",
       "    </tr>\n",
       "    <tr>\n",
       "      <th>3</th>\n",
       "      <td>Who?</td>\n",
       "      <td>Qui ?</td>\n",
       "    </tr>\n",
       "    <tr>\n",
       "      <th>4</th>\n",
       "      <td>Wow!</td>\n",
       "      <td>Ça alors !</td>\n",
       "    </tr>\n",
       "  </tbody>\n",
       "</table>\n",
       "</div>"
      ],
      "text/plain": [
       "  English words/sentences French words/sentences\n",
       "0                     Hi.                 Salut!\n",
       "1                    Run!                Cours !\n",
       "2                    Run!               Courez !\n",
       "3                    Who?                  Qui ?\n",
       "4                    Wow!             Ça alors !"
      ]
     },
     "execution_count": 3,
     "metadata": {},
     "output_type": "execute_result"
    }
   ],
   "source": [
    "df = pd.read_csv(\"data/eng-french.csv\")\n",
    "df.head(5)"
   ]
  },
  {
   "cell_type": "code",
   "execution_count": 4,
   "id": "18b3a180-5a44-423b-8107-b02df3305511",
   "metadata": {},
   "outputs": [
    {
     "data": {
      "text/html": [
       "<div>\n",
       "<style scoped>\n",
       "    .dataframe tbody tr th:only-of-type {\n",
       "        vertical-align: middle;\n",
       "    }\n",
       "\n",
       "    .dataframe tbody tr th {\n",
       "        vertical-align: top;\n",
       "    }\n",
       "\n",
       "    .dataframe thead th {\n",
       "        text-align: right;\n",
       "    }\n",
       "</style>\n",
       "<table border=\"1\" class=\"dataframe\">\n",
       "  <thead>\n",
       "    <tr style=\"text-align: right;\">\n",
       "      <th></th>\n",
       "      <th>source</th>\n",
       "      <th>target</th>\n",
       "    </tr>\n",
       "  </thead>\n",
       "  <tbody>\n",
       "    <tr>\n",
       "      <th>25570</th>\n",
       "      <td>She wants to dance.</td>\n",
       "      <td>[start] Elle a envie de danser. [end]</td>\n",
       "    </tr>\n",
       "    <tr>\n",
       "      <th>25351</th>\n",
       "      <td>No one looks happy.</td>\n",
       "      <td>[start] Personne n'a l'air content. [end]</td>\n",
       "    </tr>\n",
       "    <tr>\n",
       "      <th>96062</th>\n",
       "      <td>I can't come to work tomorrow.</td>\n",
       "      <td>[start] Je ne peux pas venir travailler demain...</td>\n",
       "    </tr>\n",
       "    <tr>\n",
       "      <th>71943</th>\n",
       "      <td>Tom is a regular customer.</td>\n",
       "      <td>[start] Tom est un client régulier. [end]</td>\n",
       "    </tr>\n",
       "    <tr>\n",
       "      <th>12526</th>\n",
       "      <td>This is our car.</td>\n",
       "      <td>[start] C'est notre voiture. [end]</td>\n",
       "    </tr>\n",
       "  </tbody>\n",
       "</table>\n",
       "</div>"
      ],
      "text/plain": [
       "                               source  \\\n",
       "25570             She wants to dance.   \n",
       "25351             No one looks happy.   \n",
       "96062  I can't come to work tomorrow.   \n",
       "71943      Tom is a regular customer.   \n",
       "12526                This is our car.   \n",
       "\n",
       "                                                  target  \n",
       "25570              [start] Elle a envie de danser. [end]  \n",
       "25351          [start] Personne n'a l'air content. [end]  \n",
       "96062  [start] Je ne peux pas venir travailler demain...  \n",
       "71943          [start] Tom est un client régulier. [end]  \n",
       "12526                 [start] C'est notre voiture. [end]  "
      ]
     },
     "execution_count": 4,
     "metadata": {},
     "output_type": "execute_result"
    }
   ],
   "source": [
    "df['source'] = df['English words/sentences']\n",
    "df['target'] = df['French words/sentences'].apply(lambda x: '[start] ' + x + ' [end]')\n",
    "df = df.drop(['English words/sentences', 'French words/sentences'], axis=1)\n",
    "df.sample(5)"
   ]
  },
  {
   "cell_type": "code",
   "execution_count": 5,
   "id": "fc4df642-5c28-4888-bd98-9e051321fa21",
   "metadata": {},
   "outputs": [
    {
     "data": {
      "text/html": [
       "<div>\n",
       "<style scoped>\n",
       "    .dataframe tbody tr th:only-of-type {\n",
       "        vertical-align: middle;\n",
       "    }\n",
       "\n",
       "    .dataframe tbody tr th {\n",
       "        vertical-align: top;\n",
       "    }\n",
       "\n",
       "    .dataframe thead th {\n",
       "        text-align: right;\n",
       "    }\n",
       "</style>\n",
       "<table border=\"1\" class=\"dataframe\">\n",
       "  <thead>\n",
       "    <tr style=\"text-align: right;\">\n",
       "      <th></th>\n",
       "      <th>source</th>\n",
       "      <th>target</th>\n",
       "    </tr>\n",
       "  </thead>\n",
       "  <tbody>\n",
       "    <tr>\n",
       "      <th>0</th>\n",
       "      <td>The button battery for my computer's timer died.</td>\n",
       "      <td>[start] La pile-bouton de l'horloge de mon ord...</td>\n",
       "    </tr>\n",
       "    <tr>\n",
       "      <th>1</th>\n",
       "      <td>I only have one suggestion.</td>\n",
       "      <td>[start] Je n'ai qu'une suggestion. [end]</td>\n",
       "    </tr>\n",
       "    <tr>\n",
       "      <th>2</th>\n",
       "      <td>He refused to pay.</td>\n",
       "      <td>[start] Il se refusa à payer. [end]</td>\n",
       "    </tr>\n",
       "    <tr>\n",
       "      <th>3</th>\n",
       "      <td>Stop joking around.</td>\n",
       "      <td>[start] Arrête de chahuter ! [end]</td>\n",
       "    </tr>\n",
       "    <tr>\n",
       "      <th>4</th>\n",
       "      <td>When did he go to Europe?</td>\n",
       "      <td>[start] Quand est-il allé en Europe ? [end]</td>\n",
       "    </tr>\n",
       "  </tbody>\n",
       "</table>\n",
       "</div>"
      ],
      "text/plain": [
       "                                             source  \\\n",
       "0  The button battery for my computer's timer died.   \n",
       "1                       I only have one suggestion.   \n",
       "2                                He refused to pay.   \n",
       "3                               Stop joking around.   \n",
       "4                         When did he go to Europe?   \n",
       "\n",
       "                                              target  \n",
       "0  [start] La pile-bouton de l'horloge de mon ord...  \n",
       "1           [start] Je n'ai qu'une suggestion. [end]  \n",
       "2                [start] Il se refusa à payer. [end]  \n",
       "3                 [start] Arrête de chahuter ! [end]  \n",
       "4        [start] Quand est-il allé en Europe ? [end]  "
      ]
     },
     "execution_count": 5,
     "metadata": {},
     "output_type": "execute_result"
    }
   ],
   "source": [
    "# shuffle the data\n",
    "df = df.sample(frac=1).reset_index(drop=True)\n",
    "df.head(5)"
   ]
  },
  {
   "cell_type": "code",
   "execution_count": 6,
   "id": "bc4f79a5-14fa-4555-b716-1c3441f68010",
   "metadata": {},
   "outputs": [
    {
     "data": {
      "text/plain": [
       "(122934, 35124, 17562)"
      ]
     },
     "execution_count": 6,
     "metadata": {},
     "output_type": "execute_result"
    }
   ],
   "source": [
    "# split the data into train, validation, and test sets\n",
    "train_size = int(len(df) * 0.7)\n",
    "val_size = int(len(df) * 0.2)\n",
    "test_size = int(len(df) * 0.1)\n",
    "train_size, val_size, test_size"
   ]
  },
  {
   "cell_type": "code",
   "execution_count": 7,
   "id": "c5785292-bf5e-4510-9465-399bd712dd78",
   "metadata": {},
   "outputs": [],
   "source": [
    "train_df = df[:train_size]\n",
    "val_df = df[train_size:train_size + val_size]\n",
    "test_df = df[train_size + val_size:]"
   ]
  },
  {
   "cell_type": "code",
   "execution_count": 8,
   "id": "32563c22-ba3b-4b17-aff0-58e0fb481631",
   "metadata": {},
   "outputs": [
    {
     "data": {
      "text/html": [
       "<div>\n",
       "<style scoped>\n",
       "    .dataframe tbody tr th:only-of-type {\n",
       "        vertical-align: middle;\n",
       "    }\n",
       "\n",
       "    .dataframe tbody tr th {\n",
       "        vertical-align: top;\n",
       "    }\n",
       "\n",
       "    .dataframe thead th {\n",
       "        text-align: right;\n",
       "    }\n",
       "</style>\n",
       "<table border=\"1\" class=\"dataframe\">\n",
       "  <thead>\n",
       "    <tr style=\"text-align: right;\">\n",
       "      <th></th>\n",
       "      <th>source</th>\n",
       "      <th>target</th>\n",
       "    </tr>\n",
       "  </thead>\n",
       "  <tbody>\n",
       "    <tr>\n",
       "      <th>0</th>\n",
       "      <td>The button battery for my computer's timer died.</td>\n",
       "      <td>[start] La pile-bouton de l'horloge de mon ord...</td>\n",
       "    </tr>\n",
       "    <tr>\n",
       "      <th>1</th>\n",
       "      <td>I only have one suggestion.</td>\n",
       "      <td>[start] Je n'ai qu'une suggestion. [end]</td>\n",
       "    </tr>\n",
       "    <tr>\n",
       "      <th>2</th>\n",
       "      <td>He refused to pay.</td>\n",
       "      <td>[start] Il se refusa à payer. [end]</td>\n",
       "    </tr>\n",
       "    <tr>\n",
       "      <th>3</th>\n",
       "      <td>Stop joking around.</td>\n",
       "      <td>[start] Arrête de chahuter ! [end]</td>\n",
       "    </tr>\n",
       "    <tr>\n",
       "      <th>4</th>\n",
       "      <td>When did he go to Europe?</td>\n",
       "      <td>[start] Quand est-il allé en Europe ? [end]</td>\n",
       "    </tr>\n",
       "  </tbody>\n",
       "</table>\n",
       "</div>"
      ],
      "text/plain": [
       "                                             source  \\\n",
       "0  The button battery for my computer's timer died.   \n",
       "1                       I only have one suggestion.   \n",
       "2                                He refused to pay.   \n",
       "3                               Stop joking around.   \n",
       "4                         When did he go to Europe?   \n",
       "\n",
       "                                              target  \n",
       "0  [start] La pile-bouton de l'horloge de mon ord...  \n",
       "1           [start] Je n'ai qu'une suggestion. [end]  \n",
       "2                [start] Il se refusa à payer. [end]  \n",
       "3                 [start] Arrête de chahuter ! [end]  \n",
       "4        [start] Quand est-il allé en Europe ? [end]  "
      ]
     },
     "execution_count": 8,
     "metadata": {},
     "output_type": "execute_result"
    }
   ],
   "source": [
    "train_df.head(5)"
   ]
  },
  {
   "cell_type": "code",
   "execution_count": 9,
   "id": "140c4283-50c9-4dc5-92b4-ebc5e0d34a8c",
   "metadata": {},
   "outputs": [
    {
     "data": {
      "image/png": "[encoded data removed]",
      "text/plain": [
       "<Figure size 640x480 with 1 Axes>"
      ]
     },
     "metadata": {},
     "output_type": "display_data"
    }
   ],
   "source": [
    "# Display the data sets representations using a pie chart just to see the distribution of the data\n",
    "labels = 'Train', 'Validation', 'Test'\n",
    "sizes = [len(train_df), len(val_df), len(test_df)]\n",
    "explode = (0.1, 0, 0)\n",
    "fig1, ax1 = plt.subplots()\n",
    "ax1.pie(sizes, explode=explode, labels=labels, autopct='%1.1f%%', shadow=True, startangle=90)\n",
    "ax1.axis('equal')\n",
    "plt.show()"
   ]
  },
  {
   "cell_type": "code",
   "execution_count": 10,
   "id": "fb58f7c8-2621-4fb3-9a48-cde04ee33fe5",
   "metadata": {},
   "outputs": [],
   "source": [
    "max_tokens = 25000\n",
    "sequence_length = 30\n",
    "\n",
    "# define a custom standardization function that convert to lowercase and strips all punctuations except \"[\" and \"]\" (so we can tell apart \"start\" from \"[start]\").\n",
    "strip_chars = string.punctuation\n",
    "strip_chars = strip_chars.replace(\"[\", \"\")\n",
    "strip_chars = strip_chars.replace(\"]\", \"\")"
   ]
  },
  {
   "cell_type": "code",
   "execution_count": 11,
   "id": "6ce42dd7-24f4-409b-a2f3-51065339e574",
   "metadata": {},
   "outputs": [],
   "source": [
    "def custom_standardization(input_string):\n",
    "    lowercase = tf.strings.lower(input_string)\n",
    "    return tf.strings.regex_replace(\n",
    "        lowercase, f\"[{re.escape(strip_chars)}]\", \"\")"
   ]
  },
  {
   "cell_type": "code",
   "execution_count": 12,
   "id": "68e7d9c1-493d-4327-9c8e-b3043ea0cef2",
   "metadata": {},
   "outputs": [
    {
     "name": "stderr",
     "output_type": "stream",
     "text": [
      "2024-07-02 15:34:30.073590: I external/local_xla/xla/stream_executor/cuda/cuda_executor.cc:901] successful NUMA node read from SysFS had negative value (-1), but there must be at least one NUMA node, so returning NUMA node zero. See more at https://github.com/torvalds/linux/blob/v6.0/Documentation/ABI/testing/sysfs-bus-pci#L344-L355\n",
      "2024-07-02 15:34:30.073797: I external/local_xla/xla/stream_executor/cuda/cuda_executor.cc:901] successful NUMA node read from SysFS had negative value (-1), but there must be at least one NUMA node, so returning NUMA node zero. See more at https://github.com/torvalds/linux/blob/v6.0/Documentation/ABI/testing/sysfs-bus-pci#L344-L355\n",
      "2024-07-02 15:34:30.073948: I external/local_xla/xla/stream_executor/cuda/cuda_executor.cc:901] successful NUMA node read from SysFS had negative value (-1), but there must be at least one NUMA node, so returning NUMA node zero. See more at https://github.com/torvalds/linux/blob/v6.0/Documentation/ABI/testing/sysfs-bus-pci#L344-L355\n",
      "2024-07-02 15:34:30.123313: I external/local_xla/xla/stream_executor/cuda/cuda_executor.cc:901] successful NUMA node read from SysFS had negative value (-1), but there must be at least one NUMA node, so returning NUMA node zero. See more at https://github.com/torvalds/linux/blob/v6.0/Documentation/ABI/testing/sysfs-bus-pci#L344-L355\n",
      "2024-07-02 15:34:30.123517: I external/local_xla/xla/stream_executor/cuda/cuda_executor.cc:901] successful NUMA node read from SysFS had negative value (-1), but there must be at least one NUMA node, so returning NUMA node zero. See more at https://github.com/torvalds/linux/blob/v6.0/Documentation/ABI/testing/sysfs-bus-pci#L344-L355\n",
      "2024-07-02 15:34:30.123686: I external/local_xla/xla/stream_executor/cuda/cuda_executor.cc:901] successful NUMA node read from SysFS had negative value (-1), but there must be at least one NUMA node, so returning NUMA node zero. See more at https://github.com/torvalds/linux/blob/v6.0/Documentation/ABI/testing/sysfs-bus-pci#L344-L355\n",
      "2024-07-02 15:34:30.123816: I tensorflow/core/common_runtime/gpu/gpu_device.cc:1929] Created device /job:localhost/replica:0/task:0/device:GPU:0 with 6263 MB memory:  -> device: 0, name: NVIDIA GeForce RTX 4070 Laptop GPU, pci bus id: 0000:01:00.0, compute capability: 8.9\n"
     ]
    }
   ],
   "source": [
    "# tokenize the data using our custom standardization function\n",
    "source_vectorization = keras.layers.TextVectorization(\n",
    "    max_tokens=max_tokens,\n",
    "    output_mode=\"int\",\n",
    "    output_sequence_length=sequence_length,\n",
    ")\n",
    "target_vectorization = keras.layers.TextVectorization(\n",
    "    max_tokens=max_tokens,\n",
    "    output_mode=\"int\",\n",
    "    output_sequence_length=sequence_length + 1,\n",
    "    # add +1 token to our target sentences since they'll be shifted right by 1 during training\n",
    "    standardize=custom_standardization,\n",
    ")"
   ]
  },
  {
   "cell_type": "code",
   "execution_count": 13,
   "id": "c96b8d1f-5dfc-45a3-bc51-61dfa2835d28",
   "metadata": {},
   "outputs": [
    {
     "data": {
      "text/plain": [
       "array([\"The button battery for my computer's timer died.\",\n",
       "       'I only have one suggestion.', 'He refused to pay.', ...,\n",
       "       'Why would I want to sue you?',\n",
       "       \"You don't know what you're missing.\",\n",
       "       \"I'm guessing this is yours.\"], dtype=object)"
      ]
     },
     "execution_count": 13,
     "metadata": {},
     "output_type": "execute_result"
    }
   ],
   "source": [
    "# index all tokens in the source and target sentences\n",
    "train_source_texts = train_df['source'].values\n",
    "train_target_texts = train_df['target'].values\n",
    "train_source_texts"
   ]
  },
  {
   "cell_type": "code",
   "execution_count": 14,
   "id": "0268f523-1e97-4b71-8535-baa29c545640",
   "metadata": {},
   "outputs": [
    {
     "data": {
      "text/plain": [
       "<keras.src.layers.preprocessing.text_vectorization.TextVectorization at 0x7a7e8d0329b0>"
      ]
     },
     "execution_count": 14,
     "metadata": {},
     "output_type": "execute_result"
    }
   ],
   "source": [
    "source_vectorization.adapt(train_source_texts)\n",
    "target_vectorization.adapt(train_target_texts)\n",
    "source_vectorization"
   ]
  },
  {
   "cell_type": "code",
   "execution_count": 15,
   "id": "8dfa21ec-0ce7-4136-9654-ed093ad3396b",
   "metadata": {},
   "outputs": [
    {
     "data": {
      "text/plain": [
       "89467"
      ]
     },
     "execution_count": 15,
     "metadata": {},
     "output_type": "execute_result"
    }
   ],
   "source": [
    "random_sample = random.randint(0, len(train_df))\n",
    "random_sample"
   ]
  },
  {
   "cell_type": "code",
   "execution_count": 16,
   "id": "b7845fda-4fb1-4239-bb7b-00758d1e036b",
   "metadata": {},
   "outputs": [
    {
     "name": "stdout",
     "output_type": "stream",
     "text": [
      "Source texts (one random sample): I am accustomed to living alone.\n",
      "Target texts (one random sample): [start] Je suis habitué à vivre seul. [end]\n",
      "Source vectors (one random sample): tf.Tensor(\n",
      "[   2  118 1647    4  519  182    0    0    0    0    0    0    0    0\n",
      "    0    0    0    0    0    0    0    0    0    0    0    0    0    0\n",
      "    0    0], shape=(30,), dtype=int64)\n",
      "Target vectors (one random sample): tf.Tensor(\n",
      "[   2    4   26 1221    9  380  179    3    0    0    0    0    0    0\n",
      "    0    0    0    0    0    0    0    0    0    0    0    0    0    0\n",
      "    0    0    0], shape=(31,), dtype=int64)\n"
     ]
    }
   ],
   "source": [
    "print(\"Source texts (one random sample):\", train_source_texts[random_sample])\n",
    "print(\"Target texts (one random sample):\", train_target_texts[random_sample])\n",
    "print(\"Source vectors (one random sample):\", source_vectorization(train_source_texts[random_sample]))\n",
    "print(\"Target vectors (one random sample):\", target_vectorization(train_target_texts[random_sample]))"
   ]
  },
  {
   "cell_type": "code",
   "execution_count": 17,
   "id": "6804b8ab-1c1a-426c-9bab-713531117237",
   "metadata": {},
   "outputs": [],
   "source": [
    "# source_vectorization.get_vocabulary()"
   ]
  },
  {
   "cell_type": "code",
   "execution_count": 18,
   "id": "02274abe-fdf8-4455-afe1-6f8aa7ece8fa",
   "metadata": {},
   "outputs": [
    {
     "name": "stdout",
     "output_type": "stream",
     "text": [
      "Source decoded texts (one random sample): i am accustomed to living alone                         \n",
      "Target decoded texts (one random sample): [start] je suis habitué à vivre seul [end]                        \n"
     ]
    }
   ],
   "source": [
    "# Display the decoding of the vectorized text (from vector back to text) just to test the vectorization\n",
    "source_decoded_text = ''\n",
    "for i in range(len(source_vectorization(train_source_texts[random_sample]))):\n",
    "    source_decoded_text += source_vectorization.get_vocabulary()[\n",
    "                               source_vectorization(train_source_texts[random_sample])[i]] + ' '\n",
    "print(\"Source decoded texts (one random sample):\", source_decoded_text)\n",
    "\n",
    "target_decoded_text = ''\n",
    "for i in range(len(target_vectorization(train_target_texts[random_sample]))):\n",
    "    target_decoded_text += target_vectorization.get_vocabulary()[\n",
    "                               target_vectorization(train_target_texts[random_sample])[i]] + ' '\n",
    "print(\"Target decoded texts (one random sample):\", target_decoded_text)"
   ]
  },
  {
   "cell_type": "code",
   "execution_count": 19,
   "id": "5a5264af-4137-4592-961a-129f5360bab7",
   "metadata": {},
   "outputs": [
    {
     "name": "stdout",
     "output_type": "stream",
     "text": [
      "Source vectors (shape): (122934, 30)\n",
      "Target vectors (shape): (122934, 31)\n"
     ]
    }
   ],
   "source": [
    "# Display the shape of our vectorized data\n",
    "train_source_vectors = source_vectorization(train_source_texts)\n",
    "train_target_vectors = target_vectorization(train_target_texts)\n",
    "print(\"Source vectors (shape):\", train_source_vectors.shape)\n",
    "print(\"Target vectors (shape):\", train_target_vectors.shape)"
   ]
  },
  {
   "cell_type": "markdown",
   "id": "fb4c9c56-7077-4a22-b78b-88c2380b8cc1",
   "metadata": {},
   "source": [
    "# Building the Transformer"
   ]
  },
  {
   "cell_type": "markdown",
   "id": "6894b785-f0a0-4909-9ba5-679c1ff33011",
   "metadata": {},
   "source": [
    "**Positional Embedding**"
   ]
  },
  {
   "cell_type": "code",
   "execution_count": 20,
   "id": "84c2843b-9348-441a-9568-ffb7ac8ddc05",
   "metadata": {},
   "outputs": [],
   "source": [
    "class PositionalEmbedding(keras.layers.Layer):\n",
    "    \n",
    "    def __init__(self, sequence_length, input_dim, output_dim, **kwargs):\n",
    "        super().__init__(**kwargs)\n",
    "        self.token_embeddings = keras.layers.Embedding(input_dim=input_dim, output_dim=output_dim)\n",
    "        self.position_embeddings = keras.layers.Embedding(input_dim=sequence_length, output_dim=output_dim)\n",
    "        self.sequence_length = sequence_length\n",
    "        self.input_dim = input_dim\n",
    "        self.output_dim = output_dim\n",
    "        \n",
    "    def call(self, inputs):\n",
    "        embedded_tokens = self.token_embeddings(inputs)\n",
    "        length = tf.shape(inputs)[-1]\n",
    "        positions = tf.range(start=0, limit=length, delta=1) # create the positional information\n",
    "        embedded_positions = self.position_embeddings(positions) # embed the positions \n",
    "        return embedded_tokens + embedded_positions # add the token and position embeddings to create the positional embeddings\n",
    "        \n",
    "    def compute_mask(self, inputs, mask=None):\n",
    "        return tf.math.not_equal(inputs, 0)\n",
    "\n",
    "    def get_config(self):\n",
    "        config = super(PositionalEmbedding, self).get_config()\n",
    "        config.update({\n",
    "            \"input_dim\": self.input_dim,\n",
    "            \"output_dim\": self.output_dim,\n",
    "            \"sequence_length\": self.sequence_length,\n",
    "        })\n",
    "        return config"
   ]
  },
  {
   "cell_type": "code",
   "execution_count": 21,
   "id": "5f67f08b-b785-4027-b58e-9b8c9167ca5f",
   "metadata": {},
   "outputs": [
    {
     "name": "stderr",
     "output_type": "stream",
     "text": [
      "2024-07-02 15:34:41.165111: W external/local_tsl/tsl/framework/cpu_allocator_impl.cc:83] Allocation of 3776532480 exceeds 10% of free system memory.\n",
      "2024-07-02 15:34:41.380721: W external/local_tsl/tsl/framework/cpu_allocator_impl.cc:83] Allocation of 3776532480 exceeds 10% of free system memory.\n",
      "2024-07-02 15:34:41.909040: W external/local_tsl/tsl/framework/cpu_allocator_impl.cc:83] Allocation of 3776532480 exceeds 10% of free system memory.\n",
      "2024-07-02 15:34:42.111225: W external/local_tsl/tsl/framework/cpu_allocator_impl.cc:83] Allocation of 3776532480 exceeds 10% of free system memory.\n"
     ]
    },
    {
     "name": "stdout",
     "output_type": "stream",
     "text": [
      "Source texts (one random sample): The party's over.\n",
      "Target texts (one random sample): [start] La fête est finie. [end]\n",
      "Source vectors (one random sample): tf.Tensor(\n",
      "[   5 5339  178    0    0    0    0    0    0    0    0    0    0    0\n",
      "    0    0    0    0    0    0    0    0    0    0    0    0    0    0\n",
      "    0    0], shape=(30,), dtype=int64)\n",
      "Target vectors (one random sample): tf.Tensor(\n",
      "[   2   10  294   15 3623    3    0    0    0    0    0    0    0    0\n",
      "    0    0    0    0    0    0    0    0    0    0    0    0    0    0\n",
      "    0    0    0], shape=(31,), dtype=int64)\n",
      "Source embedded vectors (one random sample): tf.Tensor(\n",
      "[[-0.00650704  0.01890611  0.04230333 ...  0.03570325 -0.00179838\n",
      "  -0.00820101]\n",
      " [ 0.01616565  0.0315378   0.05838604 ... -0.0440284   0.06817309\n",
      "   0.09248477]\n",
      " [ 0.03959115 -0.06508946  0.00781979 ...  0.02839359  0.04449531\n",
      "  -0.03617071]\n",
      " ...\n",
      " [-0.00736199 -0.0147505   0.04904447 ...  0.02357408 -0.04441813\n",
      "   0.01642568]\n",
      " [ 0.06363912 -0.01061284  0.02566089 ...  0.0311004   0.01113222\n",
      "  -0.02614175]\n",
      " [-0.00538218 -0.01044484  0.02018225 ... -0.0309271   0.02049686\n",
      "   0.02203733]], shape=(30, 256), dtype=float32)\n",
      "Target embedded vectors (one random sample): tf.Tensor(\n",
      "[[ 0.02526331 -0.00296401 -0.04419458 ... -0.09233078 -0.05355301\n",
      "  -0.04140874]\n",
      " [-0.09580642  0.01568482 -0.07539818 ... -0.02756362  0.04216108\n",
      "  -0.04411526]\n",
      " [ 0.02563446 -0.04357069  0.0132482  ... -0.01236031  0.02864579\n",
      "   0.00641397]\n",
      " ...\n",
      " [-0.0163179  -0.00920733  0.06144048 ...  0.03230219 -0.02682322\n",
      "  -0.07717506]\n",
      " [-0.02925933 -0.03737731 -0.03163856 ...  0.02765694  0.04323792\n",
      "  -0.07343005]\n",
      " [-0.01570362  0.02543929  0.05745871 ... -0.00282806 -0.03960092\n",
      "  -0.05827351]], shape=(30, 256), dtype=float32)\n"
     ]
    }
   ],
   "source": [
    "# Display a random sample before and after embbeding just to test our class\n",
    "embed_dim = 256\n",
    "with tf.device('cpu:0'):\n",
    "    train_source_embedded = PositionalEmbedding(\n",
    "        sequence_length=sequence_length,\n",
    "        input_dim=max_tokens,\n",
    "        output_dim=embed_dim,\n",
    "        name=\"source_embedding\",\n",
    "    ) (train_source_vectors)\n",
    "\n",
    "    train_target_embedded = PositionalEmbedding(\n",
    "        sequence_length=sequence_length,\n",
    "        input_dim=max_tokens,\n",
    "        output_dim=embed_dim,\n",
    "        name=\"target_embedding\",\n",
    "    ) (train_source_vectors)\n",
    "\n",
    "    random_sample = random.randint(0, len(train_df))\n",
    "    print(\"Source texts (one random sample):\", train_source_texts[random_sample])\n",
    "    print(\"Target texts (one random sample):\", train_target_texts[random_sample])\n",
    "    print(\"Source vectors (one random sample):\", source_vectorization(train_source_texts[random_sample]))\n",
    "    print(\"Target vectors (one random sample):\", target_vectorization(train_target_texts[random_sample]))\n",
    "    print(\"Source embedded vectors (one random sample):\", train_source_embedded[random_sample])\n",
    "    print(\"Target embedded vectors (one random sample):\", train_target_embedded[random_sample])"
   ]
  },
  {
   "cell_type": "code",
   "execution_count": 22,
   "id": "0b4dadc8-9bb3-484e-9254-b5df44101284",
   "metadata": {},
   "outputs": [
    {
     "name": "stdout",
     "output_type": "stream",
     "text": [
      "Source embedded vectors (shape): (122934, 30, 256)\n",
      "Target embedded vectors (shape): (122934, 30, 256)\n"
     ]
    }
   ],
   "source": [
    "# Display the shape of our embedded data just to test the class\n",
    "print(\"Source embedded vectors (shape):\", train_source_embedded.shape)\n",
    "print(\"Target embedded vectors (shape):\", train_target_embedded.shape)"
   ]
  },
  {
   "cell_type": "code",
   "execution_count": null,
   "id": "4b96b724-42be-439e-ab52-ee52c6e1263c",
   "metadata": {},
   "outputs": [],
   "source": []
  },
  {
   "cell_type": "markdown",
   "id": "1a3c90e7-751a-45ab-acd0-4dddc23a98e7",
   "metadata": {},
   "source": [
    "**The Attention mechanism**"
   ]
  },
  {
   "cell_type": "markdown",
   "id": "b78a4895-b23d-4636-9d76-615cdf56ad8a",
   "metadata": {},
   "source": [
    "**1. Causal Masking**"
   ]
  },
  {
   "cell_type": "code",
   "execution_count": 23,
   "id": "d573371d-fc30-4ada-98d8-8b6abbfdcfe4",
   "metadata": {},
   "outputs": [],
   "source": [
    "# credits to OpenAI for that one (https://github.com/openai/gpt-2/blob/master/src/model.py)\n",
    "def shape_list(x):\n",
    "    \"\"\"Deal with dynamic shape in tensorflow cleanly.\"\"\"\n",
    "    static = x.shape.as_list()\n",
    "    dynamic = tf.shape(x)\n",
    "    return [dynamic[i] if s is None else s for i, s in enumerate(static)]\n",
    "\n",
    "def attention_mask(nd, ns, *, dtype):\n",
    "    \"\"\"1's in the lower triangle, counting from the lower right corner.\n",
    "    Same as tf.matrix_band_part(tf.ones([nd, ns]), -1, ns-nd), but doesn't produce garbage on TPUs.\n",
    "    \"\"\"\n",
    "    i = tf.range(nd)[:,None]\n",
    "    j = tf.range(ns)\n",
    "    m = i >= j - ns + nd\n",
    "    return tf.cast(m, dtype)\n",
    "\n",
    "def mask_attn_weights(w):\n",
    "    # w has shape [batch, heads, dst_sequence, src_sequence], where information flows from src to dst.\n",
    "    _, _, nd, ns = shape_list(w)\n",
    "    b = attention_mask(nd, ns, dtype=w.dtype)\n",
    "    b = tf.reshape(b, [1, 1, nd, ns])\n",
    "    w = w*b - tf.cast(1e10, w.dtype)*(1-b)\n",
    "    return w"
   ]
  },
  {
   "cell_type": "markdown",
   "id": "fa54da3c-cb9f-4db5-bf1b-f00c312c8536",
   "metadata": {},
   "source": [
    "# display the causal masking of a random tensor just to test the function\n",
    "random_tensor = tf.random.uniform(shape=(1, 1, 5, 5), minval=0, maxval=1, dtype=tf.float32)\n",
    "print(\"Masked attention weights:\", mask_attn_weights(random_tensor))"
   ]
  },
  {
   "cell_type": "markdown",
   "id": "8eed4064-cea2-4dd3-81e1-b18ed5118366",
   "metadata": {},
   "source": [
    "**2. Scaled Dot-Product Attention**"
   ]
  },
  {
   "cell_type": "code",
   "execution_count": 24,
   "id": "c2230ed0-13ae-42fa-ab29-0a7e62f15884",
   "metadata": {},
   "outputs": [],
   "source": [
    "def scaled_dot_product_attention(q, k, v, use_causal_mask=False):\n",
    "    d_k = tf.cast(tf.shape(k)[-1], tf.float32)\n",
    "    scores = tf.matmul(q, k, transpose_b=True) # Matmul of Q and K\n",
    "    scaled_scores = scores / tf.math.sqrt(d_k) # Scale\n",
    "    if use_causal_mask:\n",
    "        scaled_scores = mask_attn_weights(scaled_scores) # Mask (opt.)\n",
    "    weights = tf.nn.softmax(scaled_scores, axis=-1) # SoftMax\n",
    "    output = tf.matmul(weights, v) # Matmul of SoftMax and V\n",
    "    return output"
   ]
  },
  {
   "cell_type": "code",
   "execution_count": 25,
   "id": "40745dc8-4e60-4553-80fe-c18f5bc7e67d",
   "metadata": {},
   "outputs": [
    {
     "name": "stderr",
     "output_type": "stream",
     "text": [
      "2024-07-02 15:34:48.800199: W external/local_tsl/tsl/framework/cpu_allocator_impl.cc:83] Allocation of 3776532480 exceeds 10% of free system memory.\n"
     ]
    },
    {
     "name": "stdout",
     "output_type": "stream",
     "text": [
      "Scaled dot product attention (shape): (122934, 1, 30, 256)\n"
     ]
    }
   ],
   "source": [
    "# display the shape of our attention output just to test the function\n",
    "with tf.device('cpu:0'):\n",
    "    input = train_source_embedded\n",
    "    input = tf.expand_dims(input, axis=1)\n",
    "    print(\"Scaled dot product attention (shape):\", scaled_dot_product_attention(input, input, input, use_causal_mask=True).shape)"
   ]
  },
  {
   "cell_type": "markdown",
   "id": "8252c00f-63f1-4785-ad11-34f4992f1eac",
   "metadata": {},
   "source": [
    "**3. Multi-Head Attention**"
   ]
  },
  {
   "cell_type": "code",
   "execution_count": 26,
   "id": "ad1852b7-1722-4914-8d76-6cd4d830b80d",
   "metadata": {},
   "outputs": [],
   "source": [
    "class MultiHeadAttention(keras.layers.Layer):\n",
    "    def __init__(self, embed_dim, h, **kwargs):\n",
    "        super().__init__(**kwargs)\n",
    "        self.embed_dim = embed_dim\n",
    "        self.h = h\n",
    "        if embed_dim % h != 0:\n",
    "            raise ValueError(\n",
    "                f\"dimension of the embedding space = {embed_dim} should be divisible by number of heads = {h}\"\n",
    "            )\n",
    "        self.q_linear = keras.layers.Dense(embed_dim)\n",
    "        self.k_linear = keras.layers.Dense(embed_dim)\n",
    "        self.v_linear = keras.layers.Dense(embed_dim)\n",
    "        self.concat_linear = keras.layers.Dense(embed_dim)\n",
    "\n",
    "    def split_heads(self, x, batch_size):\n",
    "        x = tf.reshape(x, shape=(batch_size, -1, self.h, self.embed_dim // self.h))\n",
    "        return tf.transpose(x, perm=[0, 2, 1, 3])\n",
    "    \n",
    "    def concat_heads(self, x, batch_size):\n",
    "        x = tf.transpose(x, perm=[0, 2, 1, 3])\n",
    "        return tf.reshape(x, (batch_size, -1, self.embed_dim))\n",
    "\n",
    "    def call(self, q, k, v, use_causal_mask=False):\n",
    "        batch_size = tf.shape(k)[0]\n",
    "        q = self.q_linear(q)\n",
    "        k = self.k_linear(k)\n",
    "        v = self.v_linear(v)\n",
    "        q = self.split_heads(q, batch_size)\n",
    "        k = self.split_heads(k, batch_size)\n",
    "        v = self.split_heads(v, batch_size)\n",
    "        attention = scaled_dot_product_attention(q, k, v, use_causal_mask)\n",
    "        concat = self.concat_heads(attention, batch_size)\n",
    "        concat = self.concat_linear(concat)\n",
    "        return concat\n",
    "\n",
    "    def get_config(self):\n",
    "        config = super(MultiHeadAttention, self).get_config()\n",
    "        config.update({\n",
    "            \"embed_dim\": self.embed_dim,\n",
    "            \"h\": self.h,\n",
    "        })\n",
    "        return config"
   ]
  },
  {
   "cell_type": "markdown",
   "id": "57017852-6133-45a9-9f18-f4931756a8bc",
   "metadata": {},
   "source": [
    "**The Encoder**"
   ]
  },
  {
   "cell_type": "code",
   "execution_count": 27,
   "id": "bbfeb65a-46b0-4d39-84a4-36f867422f68",
   "metadata": {},
   "outputs": [],
   "source": [
    "class TransformerEncoder(keras.layers.Layer):\n",
    "    \n",
    "    def __init__(self, embed_dim, dense_dim, num_heads, **kwargs):\n",
    "        super().__init__(**kwargs)\n",
    "        self.embed_dim = embed_dim\n",
    "        self.dense_dim = dense_dim\n",
    "        self.num_heads = num_heads\n",
    "        self.layer_norm_1 = keras.layers.LayerNormalization()\n",
    "        self.layer_norm_2 = keras.layers.LayerNormalization()\n",
    "        self.global_self_attention = MultiHeadAttention(embed_dim=embed_dim, h=num_heads)\n",
    "        self.feed_forward = keras.Sequential(\n",
    "            [keras.layers.Dense(dense_dim, activation=\"relu\"),\n",
    "             keras.layers.Dense(embed_dim),]\n",
    "        )\n",
    "        \n",
    "    def call(self, x):\n",
    "        # Post layer normalization + residual connections\n",
    "        x = self.layer_norm_1(x + self.global_self_attention(q=x, k=x, v=x))\n",
    "        x = self.layer_norm_2(x + self.feed_forward(x))\n",
    "        return x\n",
    "        \n",
    "    def get_config(self):\n",
    "        config = super().get_config()\n",
    "        config.update({\n",
    "            \"embed_dim\": self.embed_dim,\n",
    "            \"dense_dim\": self.dense_dim,\n",
    "            \"num_heads\": self.num_heads,\n",
    "        })\n",
    "        return config"
   ]
  },
  {
   "cell_type": "markdown",
   "id": "de7f9f63-4992-4b4c-904f-e9ccefe5da16",
   "metadata": {},
   "source": [
    "**The Decoder**"
   ]
  },
  {
   "cell_type": "code",
   "execution_count": 28,
   "id": "5c50054e-f961-40fd-9b4c-78cc3f24c1e0",
   "metadata": {},
   "outputs": [],
   "source": [
    "class TransformerDecoder(keras.layers.Layer):\n",
    "    def __init__(self, embed_dim, dense_dim, num_heads, **kwargs):\n",
    "        super().__init__(**kwargs)\n",
    "        self.embed_dim = embed_dim\n",
    "        self.dense_dim = dense_dim\n",
    "        self.num_heads = num_heads\n",
    "        self.causal_self_attention = MultiHeadAttention(embed_dim=embed_dim, h=num_heads)\n",
    "        self.cross_attention = MultiHeadAttention(embed_dim=embed_dim, h=num_heads)\n",
    "        self.feed_forward = keras.Sequential(\n",
    "            [keras.layers.Dense(dense_dim, activation=\"relu\"),\n",
    "             keras.layers.Dense(embed_dim),]\n",
    "        )\n",
    "        self.layer_norm_1 = keras.layers.LayerNormalization()\n",
    "        self.layer_norm_2 = keras.layers.LayerNormalization()\n",
    "        self.layer_norm_3 = keras.layers.LayerNormalization()\n",
    "\n",
    "    def get_config(self):\n",
    "        config = super().get_config()\n",
    "        config.update({\n",
    "            \"embed_dim\": self.embed_dim,\n",
    "            \"dense_dim\": self.dense_dim,\n",
    "            \"num_heads\": self.num_heads,\n",
    "        })\n",
    "        return config\n",
    "\n",
    "    def call(self, x, context):\n",
    "        # Post layer normalization + residual connections\n",
    "        x = self.layer_norm_1(x + self.causal_self_attention(q=x, k=x, v=x, use_causal_mask=True))\n",
    "        x = self.layer_norm_2(x + self.cross_attention(q=x, k=context, v=context))\n",
    "        x = self.layer_norm_3(x + self.feed_forward(x))\n",
    "        return x"
   ]
  },
  {
   "cell_type": "code",
   "execution_count": 29,
   "id": "2b00977d-5f17-4bea-a2b9-3ca36956ae60",
   "metadata": {},
   "outputs": [],
   "source": [
    "batch_size = 64\n",
    "\n",
    "def format_dataset(source, target):\n",
    "    source_vectors = source_vectorization(source)\n",
    "    target_vectors = target_vectorization(target)\n",
    "    return ({\n",
    "        \"source\": source_vectors, # encoder_inputs\n",
    "        \"target\": target_vectors[:, :-1], # decoder_inputs (truncate by 1 to keep it at the same length as decoder_outputs, which is shifted right by 1).\n",
    "    }, target_vectors[:, 1:]) # decoder_outputs\n",
    "\n",
    "def make_dataset(df):\n",
    "    dataset = tf.data.Dataset.from_tensor_slices((df[\"source\"].values, df[\"target\"].values))\n",
    "    dataset = dataset.batch(batch_size)\n",
    "    dataset = dataset.map(format_dataset, num_parallel_calls=4)\n",
    "    return dataset.shuffle(2048).prefetch(16).cache()\n",
    "\n",
    "train_ds = make_dataset(train_df)\n",
    "val_ds = make_dataset(val_df)"
   ]
  },
  {
   "cell_type": "code",
   "execution_count": 30,
   "id": "851656ef-cfa5-4869-9fca-24c0d33988c8",
   "metadata": {},
   "outputs": [
    {
     "data": {
      "text/plain": [
       "<CacheDataset element_spec=({'source': TensorSpec(shape=(None, 30), dtype=tf.int64, name=None), 'target': TensorSpec(shape=(None, 30), dtype=tf.int64, name=None)}, TensorSpec(shape=(None, 30), dtype=tf.int64, name=None))>"
      ]
     },
     "execution_count": 30,
     "metadata": {},
     "output_type": "execute_result"
    }
   ],
   "source": [
    "train_ds"
   ]
  },
  {
   "cell_type": "code",
   "execution_count": 31,
   "id": "cf27e050-9a1a-41d4-b3bc-51046b05bd1b",
   "metadata": {},
   "outputs": [
    {
     "name": "stdout",
     "output_type": "stream",
     "text": [
      "Encoder Inputs: (64, 30)\n",
      "Decoder Inputs: (64, 30)\n",
      "Decoder Outputs: (64, 30)\n"
     ]
    },
    {
     "name": "stderr",
     "output_type": "stream",
     "text": [
      "2024-07-02 15:34:55.390659: W tensorflow/core/kernels/data/cache_dataset_ops.cc:858] The calling iterator did not fully read the dataset being cached. In order to avoid unexpected truncation of the dataset, the partially cached contents of the dataset  will be discarded. This can happen if you have an input pipeline similar to `dataset.cache().take(k).repeat()`. You should use `dataset.take(k).cache().repeat()` instead.\n"
     ]
    }
   ],
   "source": [
    "# display the shape of the first batch of data in the dataset just to see what it looks like\n",
    "for batch in train_ds.take(1):\n",
    "    print(\"Encoder Inputs:\", batch[0][\"source\"].shape)\n",
    "    print(\"Decoder Inputs:\", batch[0][\"target\"].shape)\n",
    "    print(\"Decoder Outputs:\", batch[1].shape)"
   ]
  },
  {
   "cell_type": "code",
   "execution_count": 32,
   "id": "e2bc7eb1-2b3e-4f51-80d6-bb2210304b66",
   "metadata": {},
   "outputs": [],
   "source": [
    "embed_dim = 512 # dimension of the embedding space\n",
    "dense_dim = 2048 # dimension of the feed forward network (a rule of thumb is to use 4 times the size of the embeddings)\n",
    "num_heads = 8\n",
    "\n",
    "# the transformer body\n",
    "encoder_inputs = keras.Input(shape=(None,), dtype=\"int64\", name=\"source\")\n",
    "x = PositionalEmbedding(sequence_length, max_tokens, embed_dim)(encoder_inputs)\n",
    "encoder_outputs = TransformerEncoder(embed_dim, dense_dim, num_heads)(x)\n",
    "decoder_inputs = keras.Input(shape=(None,), dtype=\"int64\", name=\"target\")\n",
    "x = PositionalEmbedding(sequence_length, max_tokens, embed_dim)(decoder_inputs)\n",
    "x = TransformerDecoder(embed_dim, dense_dim, num_heads)(x, encoder_outputs)\n",
    "\n",
    "# the transformer head\n",
    "x = keras.layers.Dropout(0.5)(x)\n",
    "decoder_outputs = keras.layers.Dense(max_tokens, activation=\"softmax\")(x)\n",
    "\n",
    "transformer = keras.Model([encoder_inputs, decoder_inputs], decoder_outputs)"
   ]
  },
  {
   "cell_type": "code",
   "execution_count": 33,
   "id": "569a15e5-6a38-4cd4-b73e-d320bde276f0",
   "metadata": {},
   "outputs": [
    {
     "name": "stdout",
     "output_type": "stream",
     "text": [
      "Epoch 1/10\n"
     ]
    },
    {
     "name": "stderr",
     "output_type": "stream",
     "text": [
      "2024-07-02 15:35:11.648381: I external/local_xla/xla/stream_executor/cuda/cuda_dnn.cc:454] Loaded cuDNN version 8902\n",
      "2024-07-02 15:35:12.177209: I external/local_xla/xla/service/service.cc:168] XLA service 0x7a7d7abc6fb0 initialized for platform CUDA (this does not guarantee that XLA will be used). Devices:\n",
      "2024-07-02 15:35:12.177231: I external/local_xla/xla/service/service.cc:176]   StreamExecutor device (0): NVIDIA GeForce RTX 4070 Laptop GPU, Compute Capability 8.9\n",
      "2024-07-02 15:35:12.181358: I tensorflow/compiler/mlir/tensorflow/utils/dump_mlir_util.cc:269] disabling MLIR crash reproducer, set env var `MLIR_CRASH_REPRODUCER_DIRECTORY` to enable.\n",
      "WARNING: All log messages before absl::InitializeLog() is called are written to STDERR\n",
      "I0000 00:00:1719927312.233318  276714 device_compiler.h:186] Compiled cluster using XLA!  This line is logged at most once for the lifetime of the process.\n"
     ]
    },
    {
     "name": "stdout",
     "output_type": "stream",
     "text": [
      "1921/1921 [==============================] - 142s 72ms/step - loss: 0.9398 - accuracy: 0.8595 - val_loss: 0.5872 - val_accuracy: 0.9001 - lr: 0.0010\n",
      "Epoch 2/10\n",
      "1921/1921 [==============================] - 137s 71ms/step - loss: 0.5649 - accuracy: 0.9027 - val_loss: 0.4908 - val_accuracy: 0.9114 - lr: 0.0010\n",
      "Epoch 3/10\n",
      "1921/1921 [==============================] - 138s 72ms/step - loss: 0.4680 - accuracy: 0.9143 - val_loss: 0.4582 - val_accuracy: 0.9163 - lr: 0.0010\n",
      "Epoch 4/10\n",
      "1921/1921 [==============================] - 140s 73ms/step - loss: 0.4104 - accuracy: 0.9219 - val_loss: 0.4352 - val_accuracy: 0.9199 - lr: 0.0010\n",
      "Epoch 5/10\n",
      "1921/1921 [==============================] - 140s 73ms/step - loss: 0.3686 - accuracy: 0.9276 - val_loss: 0.4270 - val_accuracy: 0.9215 - lr: 0.0010\n",
      "Epoch 6/10\n",
      "1921/1921 [==============================] - 140s 73ms/step - loss: 0.3352 - accuracy: 0.9323 - val_loss: 0.4271 - val_accuracy: 0.9235 - lr: 0.0010\n",
      "Epoch 7/10\n",
      "1921/1921 [==============================] - 141s 74ms/step - loss: 0.3078 - accuracy: 0.9366 - val_loss: 0.4214 - val_accuracy: 0.9253 - lr: 0.0010\n",
      "Epoch 8/10\n",
      "1921/1921 [==============================] - 141s 73ms/step - loss: 0.2846 - accuracy: 0.9402 - val_loss: 0.4197 - val_accuracy: 0.9266 - lr: 0.0010\n",
      "Epoch 9/10\n",
      "1921/1921 [==============================] - 138s 72ms/step - loss: 0.2629 - accuracy: 0.9437 - val_loss: 0.4243 - val_accuracy: 0.9258 - lr: 0.0010\n",
      "Epoch 10/10\n",
      "1921/1921 [==============================] - 139s 72ms/step - loss: 0.2431 - accuracy: 0.9468 - val_loss: 0.4202 - val_accuracy: 0.9273 - lr: 0.0010\n"
     ]
    }
   ],
   "source": [
    "transformer.compile(\n",
    "    optimizer=\"rmsprop\",\n",
    "    loss=\"sparse_categorical_crossentropy\",\n",
    "    metrics=[\"accuracy\"])\n",
    "\n",
    "EPOCHS = 10\n",
    "checkpoint_filepath = 'checkpoint.weights.h5'\n",
    "callbacks_list = [\n",
    "    keras.callbacks.ReduceLROnPlateau(\n",
    "        monitor='val_loss',\n",
    "        factor=0.1,\n",
    "        patience=3,\n",
    "    ),\n",
    "    keras.callbacks.EarlyStopping(\n",
    "        monitor='val_loss',\n",
    "        patience=6,\n",
    "    ),\n",
    "    keras.callbacks.ModelCheckpoint(\n",
    "        filepath=checkpoint_filepath,\n",
    "        save_weights_only=True,\n",
    "        monitor='val_loss',\n",
    "        mode='min',\n",
    "        save_best_only=True\n",
    "    ),\n",
    "]\n",
    "    \n",
    "transformer.fit(train_ds, \n",
    "                epochs=EPOCHS, \n",
    "                callbacks=callbacks_list,\n",
    "                validation_data=val_ds)\n",
    "\n",
    "transformer.load_weights(checkpoint_filepath)"
   ]
  },
  {
   "cell_type": "code",
   "execution_count": 34,
   "id": "71d55897-63ba-4305-9da1-5485ffc47927",
   "metadata": {},
   "outputs": [],
   "source": [
    "target_vocab = target_vectorization.get_vocabulary()\n",
    "target_index_lookup = dict(zip(range(len(target_vocab)), target_vocab))\n",
    "max_decoded_sentence_length = 30\n",
    "\n",
    "def decode_sequence(input_sentence):\n",
    "    tokenized_input_sentence = source_vectorization([input_sentence])\n",
    "    decoded_sentence = \"[start]\"\n",
    "    for i in range(max_decoded_sentence_length):\n",
    "        tokenized_target_sentence = target_vectorization(\n",
    "            [decoded_sentence])[:, :-1]\n",
    "        predictions = transformer(\n",
    "            [tokenized_input_sentence, tokenized_target_sentence])\n",
    "        sampled_token_index = np.argmax(predictions[0, i, :])\n",
    "        sampled_token = target_index_lookup[sampled_token_index]\n",
    "        decoded_sentence += \" \" + sampled_token\n",
    "        if sampled_token == \"[end]\":\n",
    "            break\n",
    "    return decoded_sentence"
   ]
  },
  {
   "cell_type": "code",
   "execution_count": 35,
   "id": "93ce671d-9f30-4d96-af0d-18aec3f37b9c",
   "metadata": {},
   "outputs": [
    {
     "name": "stdout",
     "output_type": "stream",
     "text": [
      "She sang a Japanese song for us.\n",
      "[start] elle a chanté une chanson pour nous [end]\n",
      "\n",
      "I just felt a little dizzy. That's all.\n",
      "[start] je me suis un peu senti que cest tout [end]\n",
      "\n",
      "He has no conscience.\n",
      "[start] il na aucune conscience [end]\n",
      "\n",
      "Can you tell me why Tom isn't here?\n",
      "[start] peuxtu me dire pourquoi tom nest pas là [end]\n",
      "\n",
      "This is giving me a headache.\n",
      "[start] Ça me donne mal à la tête [end]\n",
      "\n",
      "They will agree on that.\n",
      "[start] ils vont daccord sur ça [end]\n",
      "\n",
      "She won't make it.\n",
      "[start] elle ne le fera pas [end]\n",
      "\n",
      "Who makes the decisions here?\n",
      "[start] qui fait des décisions ici [end]\n",
      "\n",
      "Tom doesn't like frog legs.\n",
      "[start] tom naime pas la différence les jambes [end]\n",
      "\n",
      "Can you do a headstand?\n",
      "[start] peuxtu te faire la tête [end]\n",
      "\n",
      "Take that back.\n",
      "[start] prends ce nest [end]\n",
      "\n",
      "I sometimes hear my father singing in the bath.\n",
      "[start] jentends parfois mon père chanter dans le bain [end]\n",
      "\n",
      "Tom's well.\n",
      "[start] tom est bien [end]\n",
      "\n",
      "Tom makes a lot of spelling mistakes.\n",
      "[start] tom fait de nombreuses fautes dorthographe [end]\n",
      "\n",
      "Tom doesn't yet know whether he can go or not.\n",
      "[start] tom ne sait pas encore sil peut se rendre ou non [end]\n",
      "\n",
      "Tell me if you're happy.\n",
      "[start] dismoi si vous êtes heureux [end]\n",
      "\n",
      "I feel my age.\n",
      "[start] je me sens de mon âge [end]\n",
      "\n",
      "We can't let them do that.\n",
      "[start] nous ne pouvons les laisser faire cela [end]\n",
      "\n",
      "I think you're nuts.\n",
      "[start] je pense que vous êtes dingues [end]\n",
      "\n",
      "Don't ask too many questions.\n",
      "[start] ne posez pas trop de questions [end]\n",
      "\n",
      "I think it's better not to try it.\n",
      "[start] je pense quil est préférable de ne pas de ne pas y essayer [end]\n",
      "\n",
      "I'm by your side.\n",
      "[start] je suis à tes côtés [end]\n",
      "\n",
      "She is in a green dress.\n",
      "[start] elle est dans une robe verte [end]\n",
      "\n",
      "I work different hours every day.\n",
      "[start] je travaille différent de tous les jours [end]\n",
      "\n",
      "It's not legally binding.\n",
      "[start] ce nest pas de façon [UNK] [end]\n",
      "\n",
      "I will watch it.\n",
      "[start] je vais la montre [end]\n",
      "\n",
      "Will you join our club?\n",
      "[start] veuxtu joindre nos club [end]\n",
      "\n",
      "It matters to me.\n",
      "[start] Ça va me voir [end]\n",
      "\n",
      "Grab as much as you need.\n",
      "[start] [UNK] tant que tu en as besoin [end]\n",
      "\n",
      "She did her best to help him.\n",
      "[start] elle le meilleur coup de son mieux [end]\n",
      "\n",
      "Were you hurt?\n",
      "[start] Étiezvous mal [end]\n",
      "\n",
      "I enjoy being a teacher.\n",
      "[start] jaime être enseignant [end]\n",
      "\n",
      "Tom got very mad.\n",
      "[start] tom sest très en colère [end]\n",
      "\n",
      "I really don't feel like talking right now.\n",
      "[start] je nai vraiment pas envie de parler maintenant [end]\n",
      "\n",
      "I saw the picture you took of that fish.\n",
      "[start] jai vu la photo que tu aies pris du poisson [end]\n",
      "\n",
      "You're disappointed, aren't you?\n",
      "[start] tu es déçu nestce pas [end]\n",
      "\n",
      "I've never cared about such things.\n",
      "[start] je ne me suis jamais souciais de telles choses [end]\n",
      "\n",
      "Tom maintained that he was innocent.\n",
      "[start] tom a demandé quil était innocent [end]\n",
      "\n",
      "My hobby is music.\n",
      "[start] mon passetemps est la musique [end]\n",
      "\n",
      "I can't let you go in there alone.\n",
      "[start] je ne peux pas vous laisser aller seul làdedans [end]\n",
      "\n",
      "Turn on the rice cooker, please.\n",
      "[start] allume le riz sil vous plaît [end]\n",
      "\n",
      "The entrance is on the other side of the building.\n",
      "[start] lentrée est de lautre côté de lautre côté du bâtiment [end]\n",
      "\n",
      "I'm visiting a friend of mine in the hospital.\n",
      "[start] je suis visite à un ami à moi à lhôpital [end]\n",
      "\n",
      "I fell in love with her at first sight.\n",
      "[start] je suis tombé amoureux delle au premier regard [end]\n",
      "\n",
      "Everybody needs something to believe in.\n",
      "[start] tout le monde a besoin de quelque chose à croire [end]\n",
      "\n",
      "How can I repay you?\n",
      "[start] comment puisje vous rembourser [end]\n",
      "\n",
      "That's why I quit.\n",
      "[start] cest pourquoi jai démissionné [end]\n",
      "\n",
      "I can't imagine what you're going through.\n",
      "[start] je ne peux pas imaginer ce que tu vas faire à travers [end]\n",
      "\n",
      "Is all of this money yours?\n",
      "[start] tout estil de cet argent [end]\n",
      "\n",
      "Going to church doesn't make you a Christian any more than standing in a garage makes you a car.\n",
      "[start] allez léglise ne vous rendil plus de [UNK] [end]\n",
      "\n"
     ]
    }
   ],
   "source": [
    "# let's translate 50 random sentences\n",
    "for i in range(50):\n",
    "    random_index = np.random.randint(0, len(test_df))\n",
    "    input_sentence = test_df[\"source\"].iloc[random_index]\n",
    "    print(input_sentence)\n",
    "    print(decode_sequence(input_sentence))\n",
    "    print()"
   ]
  },
  {
   "cell_type": "code",
   "execution_count": null,
   "id": "ce2d77c2-f61e-44fa-92fc-c7cf4d1eafd7",
   "metadata": {},
   "outputs": [],
   "source": []
  }
 ],
 "metadata": {
  "kernelspec": {
   "display_name": "Python 3 (ipykernel)",
   "language": "python",
   "name": "python3"
  },
  "language_info": {
   "codemirror_mode": {
    "name": "ipython",
    "version": 3
   },
   "file_extension": ".py",
   "mimetype": "text/x-python",
   "name": "python",
   "nbconvert_exporter": "python",
   "pygments_lexer": "ipython3",
   "version": "3.10.12"
  }
 },
 "nbformat": 4,
 "nbformat_minor": 5
}
